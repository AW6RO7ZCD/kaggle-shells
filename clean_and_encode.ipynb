{
 "cells": [
  {
   "cell_type": "markdown",
   "metadata": {},
   "source": [
    "Clean & Encode\n",
    "--------------\n",
    "\n",
    "<div style=\"text-align: justify\"> Data at <a href=\"https://www.kaggle.com/datasets/aw6ro7zcd/shells/versions/1\">kaggle.com/datasets/aw6ro7zcd/shells/versions/1</a> are mixed and include simplifications and some errors. The goal of this proceeding is to clean and prepare these data to be available to use and finally, encode them to reduce their size.\n",
    "\n",
    "Notice! If you want to run this notebook, at first you must download the data from the link above and put them into the \"./raw data/\" directory.\n",
    "\n",
    "The proceeding is finished by a new dataset that can be found with entire description at <a href=\"https://www.kaggle.com/datasets/aw6ro7zcd/shells/versions/2\">kaggle.com/datasets/aw6ro7zcd/shells/versions/2</a>.</div>"
   ]
  },
  {
   "cell_type": "code",
   "execution_count": 2,
   "metadata": {},
   "outputs": [],
   "source": [
    "# Python 3.11.0"
   ]
  },
  {
   "cell_type": "code",
   "execution_count": 3,
   "metadata": {},
   "outputs": [],
   "source": [
    "import os\n",
    "import plotly.graph_objects as go\n",
    "import pandas as pd\n",
    "import plotly.io"
   ]
  },
  {
   "cell_type": "code",
   "execution_count": 4,
   "metadata": {},
   "outputs": [],
   "source": [
    "ROOT: str = './raw data/'\n",
    "COLUMNS: list[str] = ['Brightness',\n",
    "                      'Orientation',\n",
    "                      'Stripes',\n",
    "                      'AntiStripes',\n",
    "                      'CornerAngle',\n",
    "                      'DilationAngle',\n",
    "                      'Length',\n",
    "                      'Width',\n",
    "                      'Height']"
   ]
  },
  {
   "cell_type": "markdown",
   "metadata": {},
   "source": [
    "### 1. load data"
   ]
  },
  {
   "cell_type": "code",
   "execution_count": 5,
   "metadata": {},
   "outputs": [
    {
     "name": "stdout",
     "output_type": "stream",
     "text": [
      "./raw data/chunk1.txt\n",
      "./raw data/chunk2.txt\n",
      "./raw data/chunk3.txt\n",
      "./raw data/chunk4.txt\n",
      "./raw data/chunk5.txt\n",
      "./raw data/chunk6.txt\n",
      "./raw data/chunk7.txt\n",
      "./raw data/chunk8.txt\n"
     ]
    }
   ],
   "source": [
    "pages_paths: list[str] = [''.join([ROOT, file_name])\\\n",
    "                          for file_name in os.listdir(ROOT)]\n",
    "                          \n",
    "for path in pages_paths:\n",
    "    print(path)"
   ]
  },
  {
   "cell_type": "code",
   "execution_count": 6,
   "metadata": {},
   "outputs": [],
   "source": [
    "pages: list[pd.DataFrame] = []"
   ]
  },
  {
   "cell_type": "markdown",
   "metadata": {},
   "source": [
    "### 2. rebuild the first page of data\n",
    "\n",
    "<div style=\"text-align: justify\">Columns on the first page are mixed, it is necessary to fit them to the rest.</div>"
   ]
  },
  {
   "cell_type": "code",
   "execution_count": 7,
   "metadata": {},
   "outputs": [
    {
     "data": {
      "text/html": [
       "<div>\n",
       "<style scoped>\n",
       "    .dataframe tbody tr th:only-of-type {\n",
       "        vertical-align: middle;\n",
       "    }\n",
       "\n",
       "    .dataframe tbody tr th {\n",
       "        vertical-align: top;\n",
       "    }\n",
       "\n",
       "    .dataframe thead th {\n",
       "        text-align: right;\n",
       "    }\n",
       "</style>\n",
       "<table border=\"1\" class=\"dataframe\">\n",
       "  <thead>\n",
       "    <tr style=\"text-align: right;\">\n",
       "      <th></th>\n",
       "      <th>Length</th>\n",
       "      <th>Width</th>\n",
       "      <th>Height</th>\n",
       "      <th>CornerAngle</th>\n",
       "      <th>Stripes</th>\n",
       "      <th>AntiStripes</th>\n",
       "      <th>Brightness</th>\n",
       "      <th>Orientation</th>\n",
       "      <th>DilationAngle</th>\n",
       "    </tr>\n",
       "  </thead>\n",
       "  <tbody>\n",
       "    <tr>\n",
       "      <th>0</th>\n",
       "      <td>3,3</td>\n",
       "      <td>4,1</td>\n",
       "      <td>1</td>\n",
       "      <td>130</td>\n",
       "      <td>96</td>\n",
       "      <td>3</td>\n",
       "      <td>L</td>\n",
       "      <td>P</td>\n",
       "      <td>101</td>\n",
       "    </tr>\n",
       "    <tr>\n",
       "      <th>1</th>\n",
       "      <td>2,6</td>\n",
       "      <td>3,6</td>\n",
       "      <td>1</td>\n",
       "      <td>125</td>\n",
       "      <td>34</td>\n",
       "      <td>8</td>\n",
       "      <td>L</td>\n",
       "      <td>P</td>\n",
       "      <td>106</td>\n",
       "    </tr>\n",
       "    <tr>\n",
       "      <th>2</th>\n",
       "      <td>3</td>\n",
       "      <td>3,3</td>\n",
       "      <td>1,1</td>\n",
       "      <td>120</td>\n",
       "      <td>28</td>\n",
       "      <td>3</td>\n",
       "      <td>L</td>\n",
       "      <td>P'</td>\n",
       "      <td>93</td>\n",
       "    </tr>\n",
       "    <tr>\n",
       "      <th>3</th>\n",
       "      <td>1,8</td>\n",
       "      <td>2,3</td>\n",
       "      <td>0,7</td>\n",
       "      <td>115</td>\n",
       "      <td>-</td>\n",
       "      <td>7</td>\n",
       "      <td>L</td>\n",
       "      <td>P</td>\n",
       "      <td>98</td>\n",
       "    </tr>\n",
       "    <tr>\n",
       "      <th>4</th>\n",
       "      <td>2,7</td>\n",
       "      <td>3,6</td>\n",
       "      <td>0,8</td>\n",
       "      <td>138</td>\n",
       "      <td>27</td>\n",
       "      <td>8</td>\n",
       "      <td>L</td>\n",
       "      <td>P</td>\n",
       "      <td>106</td>\n",
       "    </tr>\n",
       "  </tbody>\n",
       "</table>\n",
       "</div>"
      ],
      "text/plain": [
       "  Length Width Height CornerAngle Stripes AntiStripes Brightness Orientation  \\\n",
       "0    3,3   4,1      1         130      96           3          L           P   \n",
       "1    2,6   3,6      1         125      34           8          L           P   \n",
       "2      3   3,3    1,1         120      28           3          L          P'   \n",
       "3    1,8   2,3    0,7         115       -           7          L           P   \n",
       "4    2,7   3,6    0,8         138      27           8          L           P   \n",
       "\n",
       "  DilationAngle  \n",
       "0           101  \n",
       "1           106  \n",
       "2            93  \n",
       "3            98  \n",
       "4           106  "
      ]
     },
     "execution_count": 7,
     "metadata": {},
     "output_type": "execute_result"
    }
   ],
   "source": [
    "page: pd.DataFrame = pd.read_csv(filepath_or_buffer=pages_paths[0],\n",
    "                                 sep='\\t',\n",
    "                                 names=['Length',\n",
    "                                        'Width',\n",
    "                                        'Height',\n",
    "                                        'CornerAngle',\n",
    "                                        'Stripes',\n",
    "                                        'AntiStripes',\n",
    "                                        'Brightness', \n",
    "                                        'Orientation',\n",
    "                                        'DilationAngle'])\n",
    "\n",
    "page.head()"
   ]
  },
  {
   "cell_type": "code",
   "execution_count": 8,
   "metadata": {},
   "outputs": [
    {
     "data": {
      "text/html": [
       "<div>\n",
       "<style scoped>\n",
       "    .dataframe tbody tr th:only-of-type {\n",
       "        vertical-align: middle;\n",
       "    }\n",
       "\n",
       "    .dataframe tbody tr th {\n",
       "        vertical-align: top;\n",
       "    }\n",
       "\n",
       "    .dataframe thead th {\n",
       "        text-align: right;\n",
       "    }\n",
       "</style>\n",
       "<table border=\"1\" class=\"dataframe\">\n",
       "  <thead>\n",
       "    <tr style=\"text-align: right;\">\n",
       "      <th></th>\n",
       "      <th>Brightness</th>\n",
       "      <th>Orientation</th>\n",
       "      <th>Stripes</th>\n",
       "      <th>AntiStripes</th>\n",
       "      <th>CornerAngle</th>\n",
       "      <th>DilationAngle</th>\n",
       "      <th>Length</th>\n",
       "      <th>Width</th>\n",
       "      <th>Height</th>\n",
       "    </tr>\n",
       "  </thead>\n",
       "  <tbody>\n",
       "    <tr>\n",
       "      <th>0</th>\n",
       "      <td>L</td>\n",
       "      <td>P</td>\n",
       "      <td>96</td>\n",
       "      <td>3</td>\n",
       "      <td>130</td>\n",
       "      <td>101</td>\n",
       "      <td>3,3</td>\n",
       "      <td>4,1</td>\n",
       "      <td>1</td>\n",
       "    </tr>\n",
       "    <tr>\n",
       "      <th>1</th>\n",
       "      <td>L</td>\n",
       "      <td>P</td>\n",
       "      <td>34</td>\n",
       "      <td>8</td>\n",
       "      <td>125</td>\n",
       "      <td>106</td>\n",
       "      <td>2,6</td>\n",
       "      <td>3,6</td>\n",
       "      <td>1</td>\n",
       "    </tr>\n",
       "    <tr>\n",
       "      <th>2</th>\n",
       "      <td>L</td>\n",
       "      <td>P'</td>\n",
       "      <td>28</td>\n",
       "      <td>3</td>\n",
       "      <td>120</td>\n",
       "      <td>93</td>\n",
       "      <td>3</td>\n",
       "      <td>3,3</td>\n",
       "      <td>1,1</td>\n",
       "    </tr>\n",
       "    <tr>\n",
       "      <th>3</th>\n",
       "      <td>L</td>\n",
       "      <td>P</td>\n",
       "      <td>-</td>\n",
       "      <td>7</td>\n",
       "      <td>115</td>\n",
       "      <td>98</td>\n",
       "      <td>1,8</td>\n",
       "      <td>2,3</td>\n",
       "      <td>0,7</td>\n",
       "    </tr>\n",
       "    <tr>\n",
       "      <th>4</th>\n",
       "      <td>L</td>\n",
       "      <td>P</td>\n",
       "      <td>27</td>\n",
       "      <td>8</td>\n",
       "      <td>138</td>\n",
       "      <td>106</td>\n",
       "      <td>2,7</td>\n",
       "      <td>3,6</td>\n",
       "      <td>0,8</td>\n",
       "    </tr>\n",
       "  </tbody>\n",
       "</table>\n",
       "</div>"
      ],
      "text/plain": [
       "  Brightness Orientation Stripes AntiStripes CornerAngle DilationAngle Length  \\\n",
       "0          L           P      96           3         130           101    3,3   \n",
       "1          L           P      34           8         125           106    2,6   \n",
       "2          L          P'      28           3         120            93      3   \n",
       "3          L           P       -           7         115            98    1,8   \n",
       "4          L           P      27           8         138           106    2,7   \n",
       "\n",
       "  Width Height  \n",
       "0   4,1      1  \n",
       "1   3,6      1  \n",
       "2   3,3    1,1  \n",
       "3   2,3    0,7  \n",
       "4   3,6    0,8  "
      ]
     },
     "execution_count": 8,
     "metadata": {},
     "output_type": "execute_result"
    }
   ],
   "source": [
    "page = page.reindex(columns=COLUMNS)\n",
    "\n",
    "page.head()"
   ]
  },
  {
   "cell_type": "markdown",
   "metadata": {},
   "source": [
    "### 3. concatenate all pages\n",
    "\n",
    "Now it is possible to merge all the pages."
   ]
  },
  {
   "cell_type": "code",
   "execution_count": 9,
   "metadata": {},
   "outputs": [
    {
     "name": "stdout",
     "output_type": "stream",
     "text": [
      "(832, 9)\n"
     ]
    }
   ],
   "source": [
    "# queue the pages\n",
    "pages.append(page)      # the first page is already loaded\n",
    "for page_path in pages_paths[1:]:\n",
    "    pages.append(pd.read_csv(filepath_or_buffer=page_path,\n",
    "                             sep='\\t',\n",
    "                             names=COLUMNS))\n",
    "\n",
    "# merge all\n",
    "data: pd.DataFrame = pd.concat(objs=pages, ignore_index=True)\n",
    "\n",
    "print(data.shape)"
   ]
  },
  {
   "cell_type": "markdown",
   "metadata": {},
   "source": [
    "### 4. apply uniform notation\n",
    "\n",
    "<div style=\"text-align: justify\">Some of columns include various types of values i.e. P, P', 1, 0 at Orientation. However, it is better to keep uniform notation.</div>"
   ]
  },
  {
   "cell_type": "code",
   "execution_count": 10,
   "metadata": {},
   "outputs": [
    {
     "name": "stdout",
     "output_type": "stream",
     "text": [
      "Brightness :  ['L' 'D' '-' '1' '0' 1 0]\n",
      "Orientation :  ['P' \"P'\" '0' '1' 0 1]\n",
      "Stripes :  ['96' '34' '28' '-' '27' '23' '20' '25' '18' '32' '17' '26' '80' '75' '43'\n",
      " '68' '24' '38' '44' '55' '37' '59' '45' '40' '36' '72' '86' '39' '33'\n",
      " '51' '58' '92' '30' '48' '56' '50' '22' '53' '46' '0' '47' '29' '41' '49'\n",
      " '57' '42' '52' '54' '35' '31' '21']\n",
      "AntiStripes :  ['3' '8' '7' '4' '6' '9' '5' '-' '2' '13' '0' '10' '1' '11']\n",
      "CornerAngle :  ['130' '125' '120' '115' '138' '135' '112' '123' '129' '95' '90' '106'\n",
      " '146' '101' '140' '-' '118' '151' '157' '128' '163']\n",
      "DilationAngle :  ['101' '106' '93' '98' '112' '96' '94' '104' '-' '105' '123' '95' '108'\n",
      " '92' '91' '115' '110' '118' '90' 101 91 95 112 90 80 98 108 106 135 123\n",
      " 118 100 57 63 68 74 83 89 800 51]\n",
      "Length :  ['3,3' '2,6' '3' '1,8' '2,7' '2,8' '1,9' '2' '2,2' '2,5' '3,2' '3,1' '2,3'\n",
      " '2,1' '2,4' '1,6' '3,4' '1,5' '1,4' '1,7' '4' '1,2' '3,6' '1,3' '4,3'\n",
      " '2,9' '3,5' '3,7' '3,8' '3,9' '1,1']\n",
      "Width :  ['4,1' '3,6' '3,3' '2,3' '3,2' '2,2' '2,5' '2,9' '3' '-' nan '4' '4,2'\n",
      " '3,5' '2,8' '3,1' '3,4' '3,9' '3,8' '2' '5' '2,4' '2,1' '2,7' '4,4' '4,3'\n",
      " '1,9' '2,6' '3,7' '4,7' '4,5' '1,6' '1,7' '1,8' '1,3' '4,6']\n",
      "Height :  ['1' '1,1' '0,7' '0,8' '1,2' '0,6' '1,3' '0,9' '0,5' '1,4' '1,5' '0,4'\n",
      " '3,3' '0,3' '0,2' '3']\n"
     ]
    }
   ],
   "source": [
    "# unique values\n",
    "for column_name in data.columns:\n",
    "    print(column_name, ': ',data[column_name].unique())"
   ]
  },
  {
   "cell_type": "code",
   "execution_count": 11,
   "metadata": {},
   "outputs": [],
   "source": [
    "data.fillna(value='', inplace=True)     # put empty string '' where cells are NaN\n",
    "for old, new in [('-', ''),\n",
    "                 ('L', '1'),\n",
    "                 ('D', '0'),\n",
    "                 ('P', '1'),\n",
    "                 ('P\\'', '0')]:\n",
    "    data.mask(cond=data == old, other=new, inplace=True)"
   ]
  },
  {
   "cell_type": "code",
   "execution_count": 12,
   "metadata": {},
   "outputs": [
    {
     "name": "stdout",
     "output_type": "stream",
     "text": [
      "Brightness :  ['1' '0' '' 1 0]\n",
      "Orientation :  ['1' '0' 0 1]\n",
      "Stripes :  ['96' '34' '28' '' '27' '23' '20' '25' '18' '32' '17' '26' '80' '75' '43'\n",
      " '68' '24' '38' '44' '55' '37' '59' '45' '40' '36' '72' '86' '39' '33'\n",
      " '51' '58' '92' '30' '48' '56' '50' '22' '53' '46' '0' '47' '29' '41' '49'\n",
      " '57' '42' '52' '54' '35' '31' '21']\n",
      "AntiStripes :  ['3' '8' '7' '4' '6' '9' '5' '' '2' '13' '0' '10' '1' '11']\n",
      "CornerAngle :  ['130' '125' '120' '115' '138' '135' '112' '123' '129' '95' '90' '106'\n",
      " '146' '101' '140' '' '118' '151' '157' '128' '163']\n",
      "DilationAngle :  ['101' '106' '93' '98' '112' '96' '94' '104' '' '105' '123' '95' '108'\n",
      " '92' '91' '115' '110' '118' '90' 101 91 95 112 90 80 98 108 106 135 123\n",
      " 118 100 57 63 68 74 83 89 800 51]\n",
      "Length :  ['3,3' '2,6' '3' '1,8' '2,7' '2,8' '1,9' '2' '2,2' '2,5' '3,2' '3,1' '2,3'\n",
      " '2,1' '2,4' '1,6' '3,4' '1,5' '1,4' '1,7' '4' '1,2' '3,6' '1,3' '4,3'\n",
      " '2,9' '3,5' '3,7' '3,8' '3,9' '1,1']\n",
      "Width :  ['4,1' '3,6' '3,3' '2,3' '3,2' '2,2' '2,5' '2,9' '3' '' '4' '4,2' '3,5'\n",
      " '2,8' '3,1' '3,4' '3,9' '3,8' '2' '5' '2,4' '2,1' '2,7' '4,4' '4,3' '1,9'\n",
      " '2,6' '3,7' '4,7' '4,5' '1,6' '1,7' '1,8' '1,3' '4,6']\n",
      "Height :  ['1' '1,1' '0,7' '0,8' '1,2' '0,6' '1,3' '0,9' '0,5' '1,4' '1,5' '0,4'\n",
      " '3,3' '0,3' '0,2' '3']\n"
     ]
    }
   ],
   "source": [
    "# unique values\n",
    "for column_name in data.columns:\n",
    "    print(column_name, ': ',data[column_name].unique())"
   ]
  },
  {
   "cell_type": "markdown",
   "metadata": {},
   "source": [
    "### 5. set data types\n",
    "\n",
    "<div style=\"text-align: justify\">Now, values looks as they have same type of notation per column along all lines. However, there is still discrepancy in the case of cell types.</div>"
   ]
  },
  {
   "cell_type": "code",
   "execution_count": 13,
   "metadata": {},
   "outputs": [
    {
     "name": "stdout",
     "output_type": "stream",
     "text": [
      "Brightness : float64\n",
      "[0.0, 1.0, nan]\n",
      "Orientation : int64\n",
      "[0, 1]\n",
      "Stripes : float64\n",
      "[0.0, 17.0, 18.0, 20.0, 21.0, 22.0, 23.0, 24.0, 25.0, 26.0, 27.0, 28.0, 29.0, 30.0, 31.0, 32.0, 33.0, 34.0, 35.0, 36.0, 37.0, 38.0, 39.0, 40.0, 41.0, 42.0, 43.0, 44.0, 45.0, 46.0, 47.0, 48.0, 49.0, 50.0, 51.0, 52.0, 53.0, 54.0, 55.0, 56.0, 57.0, 58.0, 59.0, 68.0, 72.0, 75.0, 86.0, 96.0, nan, 80.0, 92.0]\n",
      "AntiStripes : float64\n",
      "[0.0, 1.0, 2.0, 3.0, 4.0, 5.0, 6.0, 7.0, 8.0, 9.0, nan, 10.0, 11.0, 13.0]\n",
      "CornerAngle : float64\n",
      "[90.0, 95.0, 101.0, 106.0, 112.0, 115.0, 118.0, 120.0, 123.0, 125.0, 128.0, 129.0, 130.0, 135.0, 138.0, 140.0, 146.0, nan, 151.0, 157.0, 163.0]\n",
      "DilationAngle : float64\n",
      "[51.0, 57.0, 63.0, 68.0, 74.0, 80.0, 83.0, 89.0, 90.0, 91.0, 92.0, 93.0, 94.0, 95.0, 96.0, 98.0, 100.0, 101.0, 104.0, 105.0, 106.0, 108.0, 110.0, 112.0, nan, 115.0, 118.0, 123.0, 135.0, 800.0]\n",
      "Length : float64\n",
      "[1.1, 1.2, 1.3, 1.4, 1.5, 1.6, 1.7, 1.8, 1.9, 2.0, 2.1, 2.2, 2.3, 2.4, 2.5, 2.6, 2.7, 2.8, 2.9, 3.0, 3.1, 3.2, 3.3, 3.4, 3.5, 3.6, 3.7, 3.8, 3.9, 4.0, 4.3]\n",
      "Width : float64\n",
      "[1.3, 1.6, 1.7, 1.8, 1.9, 2.0, 2.1, 2.2, 2.3, 2.4, 2.5, 2.6, 2.7, 2.8, 2.9, 3.0, 3.1, 3.2, 3.3, 3.4, 3.5, 3.6, 3.7, 3.8, 3.9, 4.0, 4.1, nan, 4.2, 4.3, 4.4, 4.5, 4.6, 4.7, 5.0]\n",
      "Height : float64\n",
      "[0.2, 0.3, 0.4, 0.5, 0.6, 0.7, 0.8, 0.9, 1.0, 1.1, 1.2, 1.3, 1.4, 1.5, 3.0, 3.3]\n"
     ]
    }
   ],
   "source": [
    "data = data.applymap(lambda cell: str(cell).replace(',','.'))\n",
    "for column in data:\n",
    "    data[column] = pd.to_numeric(arg=data[column], errors='coerce')\n",
    "\n",
    "for column in data:\n",
    "    print(column,':', data[column].dtype)\n",
    "    print(sorted(data[column].unique()))"
   ]
  },
  {
   "cell_type": "code",
   "execution_count": 14,
   "metadata": {},
   "outputs": [
    {
     "data": {
      "text/html": [
       "<div>\n",
       "<style scoped>\n",
       "    .dataframe tbody tr th:only-of-type {\n",
       "        vertical-align: middle;\n",
       "    }\n",
       "\n",
       "    .dataframe tbody tr th {\n",
       "        vertical-align: top;\n",
       "    }\n",
       "\n",
       "    .dataframe thead th {\n",
       "        text-align: right;\n",
       "    }\n",
       "</style>\n",
       "<table border=\"1\" class=\"dataframe\">\n",
       "  <thead>\n",
       "    <tr style=\"text-align: right;\">\n",
       "      <th></th>\n",
       "      <th>Brightness</th>\n",
       "      <th>Orientation</th>\n",
       "      <th>Stripes</th>\n",
       "      <th>AntiStripes</th>\n",
       "      <th>CornerAngle</th>\n",
       "      <th>DilationAngle</th>\n",
       "      <th>Length</th>\n",
       "      <th>Width</th>\n",
       "      <th>Height</th>\n",
       "    </tr>\n",
       "  </thead>\n",
       "  <tbody>\n",
       "    <tr>\n",
       "      <th>0</th>\n",
       "      <td>1.0</td>\n",
       "      <td>1</td>\n",
       "      <td>96.0</td>\n",
       "      <td>3.0</td>\n",
       "      <td>130.0</td>\n",
       "      <td>101.0</td>\n",
       "      <td>3.3</td>\n",
       "      <td>4.1</td>\n",
       "      <td>1.0</td>\n",
       "    </tr>\n",
       "    <tr>\n",
       "      <th>1</th>\n",
       "      <td>1.0</td>\n",
       "      <td>1</td>\n",
       "      <td>34.0</td>\n",
       "      <td>8.0</td>\n",
       "      <td>125.0</td>\n",
       "      <td>106.0</td>\n",
       "      <td>2.6</td>\n",
       "      <td>3.6</td>\n",
       "      <td>1.0</td>\n",
       "    </tr>\n",
       "    <tr>\n",
       "      <th>2</th>\n",
       "      <td>1.0</td>\n",
       "      <td>0</td>\n",
       "      <td>28.0</td>\n",
       "      <td>3.0</td>\n",
       "      <td>120.0</td>\n",
       "      <td>93.0</td>\n",
       "      <td>3.0</td>\n",
       "      <td>3.3</td>\n",
       "      <td>1.1</td>\n",
       "    </tr>\n",
       "    <tr>\n",
       "      <th>3</th>\n",
       "      <td>1.0</td>\n",
       "      <td>1</td>\n",
       "      <td>NaN</td>\n",
       "      <td>7.0</td>\n",
       "      <td>115.0</td>\n",
       "      <td>98.0</td>\n",
       "      <td>1.8</td>\n",
       "      <td>2.3</td>\n",
       "      <td>0.7</td>\n",
       "    </tr>\n",
       "    <tr>\n",
       "      <th>4</th>\n",
       "      <td>1.0</td>\n",
       "      <td>1</td>\n",
       "      <td>27.0</td>\n",
       "      <td>8.0</td>\n",
       "      <td>138.0</td>\n",
       "      <td>106.0</td>\n",
       "      <td>2.7</td>\n",
       "      <td>3.6</td>\n",
       "      <td>0.8</td>\n",
       "    </tr>\n",
       "    <tr>\n",
       "      <th>...</th>\n",
       "      <td>...</td>\n",
       "      <td>...</td>\n",
       "      <td>...</td>\n",
       "      <td>...</td>\n",
       "      <td>...</td>\n",
       "      <td>...</td>\n",
       "      <td>...</td>\n",
       "      <td>...</td>\n",
       "      <td>...</td>\n",
       "    </tr>\n",
       "    <tr>\n",
       "      <th>827</th>\n",
       "      <td>0.0</td>\n",
       "      <td>1</td>\n",
       "      <td>NaN</td>\n",
       "      <td>0.0</td>\n",
       "      <td>123.0</td>\n",
       "      <td>101.0</td>\n",
       "      <td>2.0</td>\n",
       "      <td>2.8</td>\n",
       "      <td>0.7</td>\n",
       "    </tr>\n",
       "    <tr>\n",
       "      <th>828</th>\n",
       "      <td>1.0</td>\n",
       "      <td>0</td>\n",
       "      <td>23.0</td>\n",
       "      <td>1.0</td>\n",
       "      <td>123.0</td>\n",
       "      <td>112.0</td>\n",
       "      <td>3.0</td>\n",
       "      <td>3.1</td>\n",
       "      <td>1.3</td>\n",
       "    </tr>\n",
       "    <tr>\n",
       "      <th>829</th>\n",
       "      <td>0.0</td>\n",
       "      <td>0</td>\n",
       "      <td>NaN</td>\n",
       "      <td>0.0</td>\n",
       "      <td>140.0</td>\n",
       "      <td>123.0</td>\n",
       "      <td>1.4</td>\n",
       "      <td>2.7</td>\n",
       "      <td>0.3</td>\n",
       "    </tr>\n",
       "    <tr>\n",
       "      <th>830</th>\n",
       "      <td>1.0</td>\n",
       "      <td>1</td>\n",
       "      <td>NaN</td>\n",
       "      <td>NaN</td>\n",
       "      <td>123.0</td>\n",
       "      <td>95.0</td>\n",
       "      <td>2.5</td>\n",
       "      <td>2.1</td>\n",
       "      <td>0.8</td>\n",
       "    </tr>\n",
       "    <tr>\n",
       "      <th>831</th>\n",
       "      <td>0.0</td>\n",
       "      <td>1</td>\n",
       "      <td>NaN</td>\n",
       "      <td>NaN</td>\n",
       "      <td>129.0</td>\n",
       "      <td>101.0</td>\n",
       "      <td>2.0</td>\n",
       "      <td>2.8</td>\n",
       "      <td>0.5</td>\n",
       "    </tr>\n",
       "  </tbody>\n",
       "</table>\n",
       "<p>832 rows × 9 columns</p>\n",
       "</div>"
      ],
      "text/plain": [
       "     Brightness  Orientation  Stripes  AntiStripes  CornerAngle  \\\n",
       "0           1.0            1     96.0          3.0        130.0   \n",
       "1           1.0            1     34.0          8.0        125.0   \n",
       "2           1.0            0     28.0          3.0        120.0   \n",
       "3           1.0            1      NaN          7.0        115.0   \n",
       "4           1.0            1     27.0          8.0        138.0   \n",
       "..          ...          ...      ...          ...          ...   \n",
       "827         0.0            1      NaN          0.0        123.0   \n",
       "828         1.0            0     23.0          1.0        123.0   \n",
       "829         0.0            0      NaN          0.0        140.0   \n",
       "830         1.0            1      NaN          NaN        123.0   \n",
       "831         0.0            1      NaN          NaN        129.0   \n",
       "\n",
       "     DilationAngle  Length  Width  Height  \n",
       "0            101.0     3.3    4.1     1.0  \n",
       "1            106.0     2.6    3.6     1.0  \n",
       "2             93.0     3.0    3.3     1.1  \n",
       "3             98.0     1.8    2.3     0.7  \n",
       "4            106.0     2.7    3.6     0.8  \n",
       "..             ...     ...    ...     ...  \n",
       "827          101.0     2.0    2.8     0.7  \n",
       "828          112.0     3.0    3.1     1.3  \n",
       "829          123.0     1.4    2.7     0.3  \n",
       "830           95.0     2.5    2.1     0.8  \n",
       "831          101.0     2.0    2.8     0.5  \n",
       "\n",
       "[832 rows x 9 columns]"
      ]
     },
     "execution_count": 14,
     "metadata": {},
     "output_type": "execute_result"
    }
   ],
   "source": [
    "data"
   ]
  },
  {
   "cell_type": "markdown",
   "metadata": {},
   "source": [
    "### 6. overwrite values\n",
    "<div style=\"text-align: justify\">The last step gave opportunities to visualize the data.</div>"
   ]
  },
  {
   "cell_type": "code",
   "execution_count": 15,
   "metadata": {},
   "outputs": [
    {
     "data": {
      "image/png": "[encoded data removed]"
     },
     "metadata": {},
     "output_type": "display_data"
    },
    {
     "data": {
      "image/png": "[encoded data removed]"
     },
     "metadata": {},
     "output_type": "display_data"
    },
    {
     "data": {
      "image/png": "[encoded data removed]"
     },
     "metadata": {},
     "output_type": "display_data"
    },
    {
     "data": {
      "image/png": "[encoded data removed]"
     },
     "metadata": {},
     "output_type": "display_data"
    },
    {
     "data": {
      "image/png": "[encoded data removed]"
     },
     "metadata": {},
     "output_type": "display_data"
    },
    {
     "data": {
      "image/png": "[encoded data removed]"
     },
     "metadata": {},
     "output_type": "display_data"
    },
    {
     "data": {
      "image/png": "[encoded data removed]"
     },
     "metadata": {},
     "output_type": "display_data"
    },
    {
     "data": {
      "image/png": "[encoded data removed]"
     },
     "metadata": {},
     "output_type": "display_data"
    },
    {
     "data": {
      "image/png": "[encoded data removed]"
     },
     "metadata": {},
     "output_type": "display_data"
    }
   ],
   "source": [
    "for column in data.columns:\n",
    "    fig: go.Figure = go.Figure()\n",
    "    if column not in data.columns[:2]:\n",
    "        fig.add_trace(go.Scatter(\n",
    "            y=data[column],\n",
    "            mode='markers',\n",
    "            marker=dict(size=3.5,color='black')))\n",
    "        fig.update_xaxes(title_text='index')\n",
    "        fig.update_yaxes(title_text=column)\n",
    "    else:\n",
    "        fig.add_trace(go.Histogram(\n",
    "            marker={'color':'black'},\n",
    "            x=data[column].astype(str),\n",
    "            histnorm='',\n",
    "            meta={'color':'black'}))\n",
    "        fig.update_xaxes(title_text='value')\n",
    "        fig.update_yaxes(title_text=column+' distribution')\n",
    "    fig.update_xaxes(\n",
    "        showticklabels=True,\n",
    "        zerolinecolor='#444',\n",
    "        linecolor=\"#000000\",\n",
    "        showline=True)\n",
    "    fig.update_yaxes(\n",
    "        showticklabels=True,\n",
    "        zerolinecolor='#444',\n",
    "        linecolor=\"#000000\",\n",
    "        showline=True)\n",
    "    fig.update_layout(\n",
    "        plot_bgcolor=\"rgba(255,255,255,0)\",\n",
    "        font_color=\"rgba(0,0,0,1)\",\n",
    "        paper_bgcolor=\"rgba(255,255,255,0)\",\n",
    "        showlegend=False,\n",
    "        width=480,\n",
    "        height=360,\n",
    "        margin=dict(l=0,r=0,b=0,t=0,pad=0))\n",
    "    fig.show(\"png\")\n",
    "    "
   ]
  },
  {
   "cell_type": "markdown",
   "metadata": {},
   "source": [
    "<div style=\"text-align: justify\">These figures reveals some details. One of them is that dataset DilationsAngle includes well visible, random error arose during rewriting (digitalization) measurements.</div>"
   ]
  },
  {
   "cell_type": "code",
   "execution_count": 16,
   "metadata": {},
   "outputs": [],
   "source": [
    "# fix\n",
    "data.loc[data['DilationAngle'] == 800, 'DilationAngle'] = 80"
   ]
  },
  {
   "cell_type": "code",
   "execution_count": 17,
   "metadata": {},
   "outputs": [
    {
     "data": {
      "image/png": "[encoded data removed]"
     },
     "metadata": {},
     "output_type": "display_data"
    }
   ],
   "source": [
    "column = 'DilationAngle'\n",
    "fig: go.Figure = go.Figure()\n",
    "fig.add_trace(go.Scatter(\n",
    "    y=data[column],\n",
    "    mode='markers',\n",
    "    marker=dict(size=3.5,color='black')))\n",
    "fig.update_xaxes(\n",
    "    title_text='index',\n",
    "    showticklabels=True,\n",
    "    zerolinecolor='#444',\n",
    "    linecolor=\"#000000\",\n",
    "    showline=True)\n",
    "fig.update_yaxes(\n",
    "    title_text=column,\n",
    "    showticklabels=True,\n",
    "    zerolinecolor='#444',\n",
    "    linecolor=\"#000000\",\n",
    "    showline=True)\n",
    "fig.update_layout(\n",
    "    plot_bgcolor=\"rgba(255,255,255,0)\",\n",
    "    font_color=\"rgba(0,0,0,1)\",\n",
    "    paper_bgcolor=\"rgba(255,255,255,0)\",\n",
    "    showlegend=False,\n",
    "    width=480,\n",
    "    height=360,\n",
    "    margin=dict(l=0,r=0,b=0,t=0,pad=0))\n",
    "fig.show('png')"
   ]
  },
  {
   "cell_type": "markdown",
   "metadata": {},
   "source": [
    "<div style=\"text-align: justify\">The same figure has also a kind of dispersion that have to be immediately fixed. For records with indices greater than ~400, some of records reach values below 90 degrees. This is caused by changed notation during collecting the data. Namely, for indices smaller than ~400, a measured angle was rounded up, to 90 degrees.</div>"
   ]
  },
  {
   "cell_type": "code",
   "execution_count": 18,
   "metadata": {},
   "outputs": [],
   "source": [
    "data.loc[data['DilationAngle'] < 90.0, 'DilationAngle'] = \\\n",
    "    (data[data['DilationAngle'] < 90.0] + 100.0) -90.0"
   ]
  },
  {
   "cell_type": "code",
   "execution_count": 19,
   "metadata": {},
   "outputs": [
    {
     "data": {
      "image/png": "[encoded data removed]"
     },
     "metadata": {},
     "output_type": "display_data"
    }
   ],
   "source": [
    "column = 'DilationAngle'\n",
    "fig: go.Figure = go.Figure()\n",
    "fig.add_trace(go.Scatter(\n",
    "    y=data[column],\n",
    "    mode='markers',\n",
    "    marker=dict(size=3.5,color='black')))\n",
    "fig.update_xaxes(\n",
    "    title_text='index',\n",
    "    showticklabels=True,\n",
    "    zerolinecolor='#444',\n",
    "    linecolor=\"#000000\",\n",
    "    showline=True)\n",
    "fig.update_yaxes(\n",
    "    title_text=column,\n",
    "    showticklabels=True,\n",
    "    zerolinecolor='#444',\n",
    "    linecolor=\"#000000\",\n",
    "    showline=True)\n",
    "fig.update_layout(\n",
    "    plot_bgcolor=\"rgba(255,255,255,0)\",\n",
    "    font_color=\"rgba(0,0,0,1)\",\n",
    "    paper_bgcolor=\"rgba(255,255,255,0)\",\n",
    "    showlegend=False,\n",
    "    width=480,\n",
    "    height=360,\n",
    "    margin=dict(l=0,r=0,b=0,t=0,pad=0))\n",
    "fig.show('png')"
   ]
  },
  {
   "cell_type": "markdown",
   "metadata": {},
   "source": [
    "<div style=\"text-align: justify\">Exists also at least one detail that can make doubts. Columns Length, Width and Height have several hardly visible,  correlated falls. This is because of fact, that the shells was storing and measuring in several  divisions. For each division, one by one, bigger shells was measured at first and then smaller. This proceeding was not intentional, shells was segregated by themself due to Brazil Nut Effect (the size segregation in a vibrated granular material).</div>"
   ]
  },
  {
   "cell_type": "markdown",
   "metadata": {},
   "source": [
    "### 7. binary form\n",
    "\n",
    "<div style=\"text-align: justify\">Now the data is prepared to compression. Values of each column will be encoded binary to save as many volume as it is possible.</div>"
   ]
  },
  {
   "cell_type": "code",
   "execution_count": 20,
   "metadata": {},
   "outputs": [],
   "source": [
    "def describe(column: str, frame: pd.DataFrame) -> None:\n",
    "    \"\"\"Prints selected basic information about specified column in a data frame.\"\"\"\n",
    "    print('minimal value:', frame[column].min())\n",
    "    print('maximal value:', frame[column].max())\n",
    "    print('unique values: ', end='')\n",
    "    unique: list[object] = list(frame[column].unique())\n",
    "    for item in unique[:-1]:\n",
    "        print(item, end=', ')\n",
    "    print(unique[-1])"
   ]
  },
  {
   "cell_type": "code",
   "execution_count": 21,
   "metadata": {},
   "outputs": [],
   "source": [
    "def form_binary_code(bin_number: str, number_of_digits: int) -> str:\n",
    "    \"\"\"Returns a given binary number without the 0b prefix, optionally leaded by zeros.\"\"\"\n",
    "    return bin_number.removeprefix('0b').zfill(number_of_digits)"
   ]
  },
  {
   "cell_type": "markdown",
   "metadata": {},
   "source": [
    "#### 7.1 Brightness"
   ]
  },
  {
   "cell_type": "code",
   "execution_count": 22,
   "metadata": {},
   "outputs": [
    {
     "name": "stdout",
     "output_type": "stream",
     "text": [
      "minimal value: 0.0\n",
      "maximal value: 1.0\n",
      "unique values: 1.0, 0.0, nan\n"
     ]
    }
   ],
   "source": [
    "describe(column='Brightness', frame=data)"
   ]
  },
  {
   "cell_type": "markdown",
   "metadata": {},
   "source": [
    "<div style=\"text-align: justify\">\n",
    "Let\n",
    "\n",
    "- 1.0 -> 2\n",
    "- 0.0 -> 1\n",
    "- nan -> 0\n",
    "  \n",
    "So, only 2 bits are needed to store any of these values.</div>"
   ]
  },
  {
   "cell_type": "code",
   "execution_count": 23,
   "metadata": {},
   "outputs": [
    {
     "name": "stdout",
     "output_type": "stream",
     "text": [
      "0    1.0\n",
      "1    1.0\n",
      "2    1.0\n",
      "3    1.0\n",
      "4    1.0\n",
      "Name: Brightness, dtype: float64\n",
      "0    10\n",
      "1    10\n",
      "2    10\n",
      "3    10\n",
      "4    10\n",
      "Name: Brightness, dtype: object\n"
     ]
    }
   ],
   "source": [
    "print(data['Brightness'].head())\n",
    "data['Brightness'] += 1\n",
    "data['Brightness'] = data['Brightness'].fillna(0)\n",
    "data['Brightness'] = data['Brightness'].astype(int)\n",
    "data['Brightness'] = data['Brightness'].map(bin)\n",
    "data['Brightness'] = data['Brightness'].map(str)\n",
    "data['Brightness'] = data['Brightness'].map(lambda bin_code: form_binary_code(bin_code,2))\n",
    "print(data['Brightness'].head())"
   ]
  },
  {
   "cell_type": "markdown",
   "metadata": {},
   "source": [
    "#### 7.2 Orientation"
   ]
  },
  {
   "cell_type": "code",
   "execution_count": 24,
   "metadata": {},
   "outputs": [
    {
     "name": "stdout",
     "output_type": "stream",
     "text": [
      "minimal value: 0\n",
      "maximal value: 1\n",
      "unique values: 1, 0\n"
     ]
    }
   ],
   "source": [
    "describe(column='Orientation', frame=data)"
   ]
  },
  {
   "cell_type": "markdown",
   "metadata": {},
   "source": [
    "<div style=\"text-align: justify\">In this case the situation is better, there is no nan values, so only 1 bit is needed.\n",
    "</div>"
   ]
  },
  {
   "cell_type": "code",
   "execution_count": 25,
   "metadata": {},
   "outputs": [
    {
     "name": "stdout",
     "output_type": "stream",
     "text": [
      "0    1\n",
      "1    1\n",
      "2    0\n",
      "3    1\n",
      "4    1\n",
      "Name: Orientation, dtype: int64\n",
      "0    1\n",
      "1    1\n",
      "2    0\n",
      "3    1\n",
      "4    1\n",
      "Name: Orientation, dtype: object\n"
     ]
    }
   ],
   "source": [
    "print(data['Orientation'].head())\n",
    "data['Orientation'] = data['Orientation'].astype(int)\n",
    "data['Orientation'] = data['Orientation'].map(bin)\n",
    "data['Orientation'] = data['Orientation'].map(str)\n",
    "data['Orientation'] = data['Orientation'].map(lambda bin_code: form_binary_code(bin_code,1))\n",
    "print(data['Orientation'].head())"
   ]
  },
  {
   "cell_type": "markdown",
   "metadata": {},
   "source": [
    "#### 7.3 Stripes"
   ]
  },
  {
   "cell_type": "code",
   "execution_count": 26,
   "metadata": {},
   "outputs": [
    {
     "name": "stdout",
     "output_type": "stream",
     "text": [
      "minimal value: 0.0\n",
      "maximal value: 96.0\n",
      "unique values: 96.0, 34.0, 28.0, nan, 27.0, 23.0, 20.0, 25.0, 18.0, 32.0, 17.0, 26.0, 80.0, 75.0, 43.0, 68.0, 24.0, 38.0, 44.0, 55.0, 37.0, 59.0, 45.0, 40.0, 36.0, 72.0, 86.0, 39.0, 33.0, 51.0, 58.0, 92.0, 30.0, 48.0, 56.0, 50.0, 22.0, 53.0, 46.0, 0.0, 47.0, 29.0, 41.0, 49.0, 57.0, 42.0, 52.0, 54.0, 35.0, 31.0, 21.0\n"
     ]
    }
   ],
   "source": [
    "describe(column='Stripes', frame=data)"
   ]
  },
  {
   "cell_type": "markdown",
   "metadata": {},
   "source": [
    "<div style=\"text-align: justify\">\n",
    "There is many more unique values in form <i>xy.0</i> from span <0,96>. Let\n",
    "\n",
    "- nan -> 0\n",
    "- 0.0 -> 1\n",
    "- ...\n",
    "- 96.0 -> 97\n",
    "\n",
    "keeping these values requires at least 7 bits.</div>"
   ]
  },
  {
   "cell_type": "code",
   "execution_count": 27,
   "metadata": {},
   "outputs": [
    {
     "name": "stdout",
     "output_type": "stream",
     "text": [
      "0    96.0\n",
      "1    34.0\n",
      "2    28.0\n",
      "3     NaN\n",
      "4    27.0\n",
      "Name: Stripes, dtype: float64\n",
      "0    1100001\n",
      "1    0100011\n",
      "2    0011101\n",
      "3    0000000\n",
      "4    0011100\n",
      "Name: Stripes, dtype: object\n"
     ]
    }
   ],
   "source": [
    "print(data['Stripes'].head())\n",
    "data['Stripes'] += 1\n",
    "data['Stripes'] = data['Stripes'].fillna(0)\n",
    "data['Stripes'] = data['Stripes'].astype(int)\n",
    "data['Stripes'] = data['Stripes'].map(bin)\n",
    "data['Stripes'] = data['Stripes'].map(str)\n",
    "data['Stripes'] = data['Stripes'].map(lambda bin_code: form_binary_code(bin_code,7))\n",
    "print(data['Stripes'].head())"
   ]
  },
  {
   "cell_type": "markdown",
   "metadata": {},
   "source": [
    "#### 7.4 AntiStripes"
   ]
  },
  {
   "cell_type": "code",
   "execution_count": 28,
   "metadata": {},
   "outputs": [
    {
     "name": "stdout",
     "output_type": "stream",
     "text": [
      "minimal value: 0.0\n",
      "maximal value: 13.0\n",
      "unique values: 3.0, 8.0, 7.0, 4.0, 6.0, 9.0, 5.0, nan, 2.0, 13.0, 0.0, 10.0, 1.0, 11.0\n"
     ]
    }
   ],
   "source": [
    "describe(column='AntiStripes', frame=data)"
   ]
  },
  {
   "cell_type": "markdown",
   "metadata": {},
   "source": [
    "<div style=\"text-align: justify\">\n",
    "Similar situation can be observed, luckily there is less unique values to encode. Let\n",
    "\n",
    "- nan -> 0\n",
    "- 0.0 -> 1\n",
    "- ...\n",
    "- 13.0 -> 14\n",
    "\n",
    "4 bits are needed.</div>"
   ]
  },
  {
   "cell_type": "code",
   "execution_count": 29,
   "metadata": {},
   "outputs": [
    {
     "name": "stdout",
     "output_type": "stream",
     "text": [
      "0    3.0\n",
      "1    8.0\n",
      "2    3.0\n",
      "3    7.0\n",
      "4    8.0\n",
      "Name: AntiStripes, dtype: float64\n",
      "0    0100\n",
      "1    1001\n",
      "2    0100\n",
      "3    1000\n",
      "4    1001\n",
      "Name: AntiStripes, dtype: object\n"
     ]
    }
   ],
   "source": [
    "print(data['AntiStripes'].head())\n",
    "data['AntiStripes'] += 1\n",
    "data['AntiStripes'] = data['AntiStripes'].fillna(0)\n",
    "data['AntiStripes'] = data['AntiStripes'].astype(int)\n",
    "data['AntiStripes'] = data['AntiStripes'].map(bin)\n",
    "data['AntiStripes'] = data['AntiStripes'].map(str)\n",
    "data['AntiStripes'] = data['AntiStripes'].map(lambda bin_code: form_binary_code(bin_code,4))\n",
    "print(data['AntiStripes'].head())"
   ]
  },
  {
   "cell_type": "markdown",
   "metadata": {},
   "source": [
    "#### 7.5 CornerAngle"
   ]
  },
  {
   "cell_type": "code",
   "execution_count": 30,
   "metadata": {},
   "outputs": [
    {
     "name": "stdout",
     "output_type": "stream",
     "text": [
      "minimal value: 90.0\n",
      "maximal value: 163.0\n",
      "unique values: 130.0, 125.0, 120.0, 115.0, 138.0, 135.0, 112.0, 123.0, 129.0, 95.0, 90.0, 106.0, 146.0, 101.0, 140.0, nan, 118.0, 151.0, 157.0, 128.0, 163.0\n"
     ]
    }
   ],
   "source": [
    "describe(column='CornerAngle', frame=data)"
   ]
  },
  {
   "cell_type": "markdown",
   "metadata": {},
   "source": [
    "<div style=\"text-align: justify\">\n",
    "This dataset is a bit different. Apart of nan cells, they take values in form <i>xyz.0</i> from span <90, 163>. As previously, let\n",
    "\n",
    "- nan -> 0\n",
    "\n",
    "The angles have various values but in general, all of them should be measured and rounded to several main values with interval 5.625.</div>"
   ]
  },
  {
   "cell_type": "code",
   "execution_count": 31,
   "metadata": {},
   "outputs": [],
   "source": [
    "basic_angle_interval: float = 5.625"
   ]
  },
  {
   "cell_type": "markdown",
   "metadata": {},
   "source": [
    "<div style=\"text-align: justify\">Set of the selected angles includes angle 90 degrees, so</div>"
   ]
  },
  {
   "cell_type": "code",
   "execution_count": 32,
   "metadata": {},
   "outputs": [
    {
     "name": "stdout",
     "output_type": "stream",
     "text": [
      "[0.0, 5.625, 11.25, 16.875, 22.5, 28.125, 33.75, 39.375, 45.0, 50.625, 56.25, 61.875, 67.5, 73.125, 78.75, 84.375, 90.0, 95.625, 101.25, 106.875, 112.5, 118.125, 123.75, 129.375, 135.0, 140.625, 146.25, 151.875, 157.5, 163.125, 168.75, 174.375, 180.0]\n"
     ]
    }
   ],
   "source": [
    "selected_angles = []\n",
    "for multiplicity in range(0,33):\n",
    "    selected_angles.append(multiplicity*basic_angle_interval)\n",
    "\n",
    "print(selected_angles)"
   ]
  },
  {
   "cell_type": "markdown",
   "metadata": {},
   "source": [
    "<div style=\"text-align: justify\">Now the point is to assign all these angles that are not in the set of selected angles to their closest angles from this set.</div>"
   ]
  },
  {
   "cell_type": "code",
   "execution_count": 33,
   "metadata": {},
   "outputs": [
    {
     "name": "stdout",
     "output_type": "stream",
     "text": [
      "95.625\n",
      "45.0\n",
      "157.5\n"
     ]
    }
   ],
   "source": [
    "def find_angle(angle: float, selected_angles: list[float]) -> float:\n",
    "    \"\"\"Returns the closest value from the set of selected angles for a given angle.\"\"\"\n",
    "    absolute_distinctions: list[float] = list(map(lambda selected_angle: abs(selected_angle-angle), selected_angles))\n",
    "    return selected_angles[absolute_distinctions.index(min(absolute_distinctions))]\n",
    "\n",
    "# examples\n",
    "print(find_angle(93, selected_angles))\n",
    "print(find_angle(45, selected_angles))\n",
    "print(find_angle(160, selected_angles))"
   ]
  },
  {
   "cell_type": "code",
   "execution_count": 34,
   "metadata": {},
   "outputs": [],
   "source": [
    "# replace non-selected angles\n",
    "data['CornerAngle'] = data['CornerAngle'].map(lambda angle: find_angle(angle, selected_angles), na_action='ignore')"
   ]
  },
  {
   "cell_type": "markdown",
   "metadata": {},
   "source": [
    "<div style=\"text-align: justify\">The selected angles reduces the set of available values for dataset CornerAngle. However, all of them are floating numbers which take a lot of volume. The following step enumerates them in ascending order.</div>"
   ]
  },
  {
   "cell_type": "code",
   "execution_count": 35,
   "metadata": {},
   "outputs": [
    {
     "name": "stdout",
     "output_type": "stream",
     "text": [
      "1\n",
      "13\n",
      "17\n",
      "1\n",
      "14\n"
     ]
    }
   ],
   "source": [
    "def angle_encode(angle: float, threshold: float) -> int:\n",
    "    \"\"\"Returns identifier of an angle.\"\"\"\n",
    "    return int((angle-threshold)/basic_angle_interval) + 1      # 0 reserved for the nan values\n",
    "\n",
    "# examples\n",
    "print(angle_encode(90.00, 90.00))\n",
    "print(angle_encode(157.50, 90.00))\n",
    "print(angle_encode(180.00, 90.00))\n",
    "print(angle_encode(data['CornerAngle'].min(), data['CornerAngle'].min()))\n",
    "print(angle_encode(data['CornerAngle'].max(), data['CornerAngle'].min()))"
   ]
  },
  {
   "cell_type": "markdown",
   "metadata": {},
   "source": [
    "<div style=\"text-align: justify\">So, a cell in dataset CornerAngle takes one of numbers from span <0,14> (the nan value or an encoded selected angle). This leads to situation, where <b>only 4 bits are needed to have kept information</b> in any cell in dataset CornerAnge, <b>instead of ~192 bits</b> (24 bytes * 8, but the size of float number depends of hardware). This is a magnificent example of data compression, especially if the dataset would be huge.</div>"
   ]
  },
  {
   "cell_type": "code",
   "execution_count": 36,
   "metadata": {},
   "outputs": [
    {
     "name": "stdout",
     "output_type": "stream",
     "text": [
      "0    129.375\n",
      "1    123.750\n",
      "2    118.125\n",
      "3    112.500\n",
      "4    140.625\n",
      "Name: CornerAngle, dtype: float64\n",
      "0    1000\n",
      "1    0111\n",
      "2    0110\n",
      "3    0101\n",
      "4    1010\n",
      "Name: CornerAngle, dtype: object\n"
     ]
    }
   ],
   "source": [
    "print(data['CornerAngle'].head())\n",
    "data['CornerAngle'] = data['CornerAngle']\\\n",
    "    .map(lambda angle: angle_encode(angle, data['CornerAngle'].min()), na_action='ignore')\n",
    "data['CornerAngle'] = data['CornerAngle'].fillna(0)\n",
    "data['CornerAngle'] = data['CornerAngle'].astype(int)\n",
    "data['CornerAngle'] = data['CornerAngle'].map(bin)\n",
    "data['CornerAngle'] = data['CornerAngle'].map(str)\n",
    "data['CornerAngle'] = data['CornerAngle'].map(lambda bin_code: form_binary_code(bin_code,4))\n",
    "print(data['CornerAngle'].head())"
   ]
  },
  {
   "cell_type": "markdown",
   "metadata": {},
   "source": [
    "#### 7.6 DilationAngle"
   ]
  },
  {
   "cell_type": "code",
   "execution_count": 37,
   "metadata": {},
   "outputs": [
    {
     "name": "stdout",
     "output_type": "stream",
     "text": [
      "minimal value: 61.0\n",
      "maximal value: 135.0\n",
      "unique values: 101.0, 106.0, 93.0, 98.0, 112.0, 96.0, 94.0, 104.0, nan, 105.0, 123.0, 95.0, 108.0, 92.0, 91.0, 115.0, 110.0, 118.0, 90.0, 135.0, 100.0, 67.0, 73.0, 78.0, 84.0, 99.0, 61.0\n"
     ]
    }
   ],
   "source": [
    "describe(column='DilationAngle',frame=data)"
   ]
  },
  {
   "cell_type": "markdown",
   "metadata": {},
   "source": [
    "<div style=\"text-align: justify\">In here, it would be good to go the same proceeding as one in the previous section due to similarity between both datasets.</div>"
   ]
  },
  {
   "cell_type": "code",
   "execution_count": 38,
   "metadata": {},
   "outputs": [],
   "source": [
    "# replace non-selected angles\n",
    "data['DilationAngle'] = data['DilationAngle'].map(lambda angle: find_angle(angle, selected_angles), na_action='ignore')"
   ]
  },
  {
   "cell_type": "code",
   "execution_count": 39,
   "metadata": {},
   "outputs": [
    {
     "name": "stdout",
     "output_type": "stream",
     "text": [
      "14\n"
     ]
    }
   ],
   "source": [
    "print(angle_encode(data['DilationAngle'].max(), data['DilationAngle'].min()))"
   ]
  },
  {
   "cell_type": "markdown",
   "metadata": {},
   "source": [
    "<div style=\"text-align: justify\">The situation is the same as in the previous section namely, a cell in dataset DilationAngle takes one of numbers from span <0,14> (the nan value or an encoded selected angle). So only 4 bits are required to have kept information in any cell in dataset DilationAnge.</div>"
   ]
  },
  {
   "cell_type": "code",
   "execution_count": 40,
   "metadata": {},
   "outputs": [
    {
     "name": "stdout",
     "output_type": "stream",
     "text": [
      "0    101.250\n",
      "1    106.875\n",
      "2     95.625\n",
      "3     95.625\n",
      "4    106.875\n",
      "Name: DilationAngle, dtype: float64\n",
      "0    1000\n",
      "1    1001\n",
      "2    0111\n",
      "3    0111\n",
      "4    1001\n",
      "Name: DilationAngle, dtype: object\n"
     ]
    }
   ],
   "source": [
    "print(data['DilationAngle'].head())\n",
    "data['DilationAngle'] = data['DilationAngle']\\\n",
    "    .map(lambda angle: angle_encode(angle, data['DilationAngle'].min()), na_action='ignore')\n",
    "data['DilationAngle'] = data['DilationAngle'].fillna(0)\n",
    "data['DilationAngle'] = data['DilationAngle'].astype(int)\n",
    "data['DilationAngle'] = data['DilationAngle'].map(bin)\n",
    "data['DilationAngle'] = data['DilationAngle'].map(str)\n",
    "data['DilationAngle'] = data['DilationAngle'].map(lambda bin_code: form_binary_code(bin_code,4))\n",
    "print(data['DilationAngle'].head())"
   ]
  },
  {
   "cell_type": "markdown",
   "metadata": {},
   "source": [
    "#### 7.7 Length"
   ]
  },
  {
   "cell_type": "code",
   "execution_count": 41,
   "metadata": {},
   "outputs": [
    {
     "name": "stdout",
     "output_type": "stream",
     "text": [
      "minimal value: 1.1\n",
      "maximal value: 4.3\n",
      "unique values: 3.3, 2.6, 3.0, 1.8, 2.7, 2.8, 1.9, 2.0, 2.2, 2.5, 3.2, 3.1, 2.3, 2.1, 2.4, 1.6, 3.4, 1.5, 1.4, 1.7, 4.0, 1.2, 3.6, 1.3, 4.3, 2.9, 3.5, 3.7, 3.8, 3.9, 1.1\n"
     ]
    }
   ],
   "source": [
    "describe(column='Length', frame=data)"
   ]
  },
  {
   "cell_type": "markdown",
   "metadata": {},
   "source": [
    "<div style=\"text-align: justify\">As it can be observed, in this dataset there is no the nan values and all unique of them are in form of <i>x.y</i>. It would be rightly to convert them into integers.</div>"
   ]
  },
  {
   "cell_type": "code",
   "execution_count": 42,
   "metadata": {},
   "outputs": [
    {
     "name": "stdout",
     "output_type": "stream",
     "text": [
      "11.0\n",
      "43.0\n"
     ]
    }
   ],
   "source": [
    "data['Length'] *= 10\n",
    "\n",
    "print(data['Length'].min())\n",
    "print(data['Length'].max())"
   ]
  },
  {
   "cell_type": "markdown",
   "metadata": {},
   "source": [
    "<div style=\"text-align: justify\">Unfortunately, reduction about 11.0 will not allow to reduce the smallest number of required bits. There is 6 of them.</div>"
   ]
  },
  {
   "cell_type": "code",
   "execution_count": 43,
   "metadata": {},
   "outputs": [
    {
     "name": "stdout",
     "output_type": "stream",
     "text": [
      "0    33.0\n",
      "1    26.0\n",
      "2    30.0\n",
      "3    18.0\n",
      "4    27.0\n",
      "Name: Length, dtype: float64\n",
      "0    100001\n",
      "1    011010\n",
      "2    011110\n",
      "3    010010\n",
      "4    011011\n",
      "Name: Length, dtype: object\n"
     ]
    }
   ],
   "source": [
    "print(data['Length'].head())\n",
    "data['Length'] = data['Length'].astype(int)\n",
    "data['Length'] = data['Length'].map(bin)\n",
    "data['Length'] = data['Length'].map(str)\n",
    "data['Length'] = data['Length'].map(lambda bin_code: form_binary_code(bin_code,6))\n",
    "print(data['Length'].head())"
   ]
  },
  {
   "cell_type": "markdown",
   "metadata": {},
   "source": [
    "#### 7.8 Width"
   ]
  },
  {
   "cell_type": "code",
   "execution_count": 44,
   "metadata": {},
   "outputs": [
    {
     "name": "stdout",
     "output_type": "stream",
     "text": [
      "minimal value: 1.3\n",
      "maximal value: 5.0\n",
      "unique values: 4.1, 3.6, 3.3, 2.3, 3.2, 2.2, 2.5, 2.9, 3.0, nan, 4.0, 4.2, 3.5, 2.8, 3.1, 3.4, 3.9, 3.8, 2.0, 5.0, 2.4, 2.1, 2.7, 4.4, 4.3, 1.9, 2.6, 3.7, 4.7, 4.5, 1.6, 1.7, 1.8, 1.3, 4.6\n"
     ]
    }
   ],
   "source": [
    "describe(column='Width', frame=data)"
   ]
  },
  {
   "cell_type": "markdown",
   "metadata": {},
   "source": [
    "<div style=\"text-align: justify\">In here it is possible to go as previously however, the nan value is found.</div>"
   ]
  },
  {
   "cell_type": "code",
   "execution_count": 45,
   "metadata": {},
   "outputs": [
    {
     "name": "stdout",
     "output_type": "stream",
     "text": [
      "13.0\n",
      "50.0\n"
     ]
    }
   ],
   "source": [
    "data['Width'] *= 10\n",
    "\n",
    "print(data['Width'].min())\n",
    "print(data['Width'].max())"
   ]
  },
  {
   "cell_type": "markdown",
   "metadata": {},
   "source": [
    "<div style=\"text-align: justify\">And in this situation, reduction by 12 will not give any benefits, 6 bits are needed at least. Let the nan -> 0.</div>"
   ]
  },
  {
   "cell_type": "code",
   "execution_count": 46,
   "metadata": {},
   "outputs": [
    {
     "name": "stdout",
     "output_type": "stream",
     "text": [
      "0    41.0\n",
      "1    36.0\n",
      "2    33.0\n",
      "3    23.0\n",
      "4    36.0\n",
      "Name: Width, dtype: float64\n",
      "0    101001\n",
      "1    100100\n",
      "2    100001\n",
      "3    010111\n",
      "4    100100\n",
      "Name: Width, dtype: object\n"
     ]
    }
   ],
   "source": [
    "print(data['Width'].head())\n",
    "data['Width'] = data['Width'].fillna(0)\n",
    "data['Width'] = data['Width'].astype(int)\n",
    "data['Width'] = data['Width'].map(bin)\n",
    "data['Width'] = data['Width'].map(str)\n",
    "data['Width'] = data['Width'].map(lambda bin_code: form_binary_code(bin_code,6))\n",
    "print(data['Width'].head())"
   ]
  },
  {
   "cell_type": "markdown",
   "metadata": {},
   "source": [
    "#### 7.9 Height"
   ]
  },
  {
   "cell_type": "code",
   "execution_count": 47,
   "metadata": {},
   "outputs": [
    {
     "name": "stdout",
     "output_type": "stream",
     "text": [
      "minimal value: 0.2\n",
      "maximal value: 3.3\n",
      "unique values: 1.0, 1.1, 0.7, 0.8, 1.2, 0.6, 1.3, 0.9, 0.5, 1.4, 1.5, 0.4, 3.3, 0.3, 0.2, 3.0\n"
     ]
    }
   ],
   "source": [
    "describe(column='Height', frame=data)"
   ]
  },
  {
   "cell_type": "markdown",
   "metadata": {},
   "source": [
    "<div style=\"text-align: justify\">In the last dataset, it is possible to have kept information only in 5 bits. There is no the nan values, but each value must be an integer reduced about the minimal value.</div>"
   ]
  },
  {
   "cell_type": "code",
   "execution_count": 48,
   "metadata": {},
   "outputs": [
    {
     "name": "stdout",
     "output_type": "stream",
     "text": [
      "0    1.0\n",
      "1    1.0\n",
      "2    1.1\n",
      "3    0.7\n",
      "4    0.8\n",
      "Name: Height, dtype: float64\n",
      "0    01000\n",
      "1    01000\n",
      "2    01001\n",
      "3    00101\n",
      "4    00110\n",
      "Name: Height, dtype: object\n"
     ]
    }
   ],
   "source": [
    "print(data['Height'].head())\n",
    "data['Height'] *= 10\n",
    "data['Height'] = data['Height'] - data['Height'].min()\n",
    "data['Height'] = data['Height'].astype(int)\n",
    "data['Height'] = data['Height'].map(bin)\n",
    "data['Height'] = data['Height'].map(str)\n",
    "data['Height'] = data['Height'].map(lambda bin_code: form_binary_code(bin_code,5))\n",
    "print(data['Height'].head())"
   ]
  },
  {
   "cell_type": "markdown",
   "metadata": {},
   "source": [
    "### 8. write"
   ]
  },
  {
   "cell_type": "code",
   "execution_count": 49,
   "metadata": {},
   "outputs": [
    {
     "data": {
      "text/html": [
       "<div>\n",
       "<style scoped>\n",
       "    .dataframe tbody tr th:only-of-type {\n",
       "        vertical-align: middle;\n",
       "    }\n",
       "\n",
       "    .dataframe tbody tr th {\n",
       "        vertical-align: top;\n",
       "    }\n",
       "\n",
       "    .dataframe thead th {\n",
       "        text-align: right;\n",
       "    }\n",
       "</style>\n",
       "<table border=\"1\" class=\"dataframe\">\n",
       "  <thead>\n",
       "    <tr style=\"text-align: right;\">\n",
       "      <th></th>\n",
       "      <th>Brightness</th>\n",
       "      <th>Orientation</th>\n",
       "      <th>Stripes</th>\n",
       "      <th>AntiStripes</th>\n",
       "      <th>CornerAngle</th>\n",
       "      <th>DilationAngle</th>\n",
       "      <th>Length</th>\n",
       "      <th>Width</th>\n",
       "      <th>Height</th>\n",
       "    </tr>\n",
       "  </thead>\n",
       "  <tbody>\n",
       "    <tr>\n",
       "      <th>0</th>\n",
       "      <td>10</td>\n",
       "      <td>1</td>\n",
       "      <td>1100001</td>\n",
       "      <td>0100</td>\n",
       "      <td>1000</td>\n",
       "      <td>1000</td>\n",
       "      <td>100001</td>\n",
       "      <td>101001</td>\n",
       "      <td>01000</td>\n",
       "    </tr>\n",
       "    <tr>\n",
       "      <th>1</th>\n",
       "      <td>10</td>\n",
       "      <td>1</td>\n",
       "      <td>0100011</td>\n",
       "      <td>1001</td>\n",
       "      <td>0111</td>\n",
       "      <td>1001</td>\n",
       "      <td>011010</td>\n",
       "      <td>100100</td>\n",
       "      <td>01000</td>\n",
       "    </tr>\n",
       "    <tr>\n",
       "      <th>2</th>\n",
       "      <td>10</td>\n",
       "      <td>0</td>\n",
       "      <td>0011101</td>\n",
       "      <td>0100</td>\n",
       "      <td>0110</td>\n",
       "      <td>0111</td>\n",
       "      <td>011110</td>\n",
       "      <td>100001</td>\n",
       "      <td>01001</td>\n",
       "    </tr>\n",
       "    <tr>\n",
       "      <th>3</th>\n",
       "      <td>10</td>\n",
       "      <td>1</td>\n",
       "      <td>0000000</td>\n",
       "      <td>1000</td>\n",
       "      <td>0101</td>\n",
       "      <td>0111</td>\n",
       "      <td>010010</td>\n",
       "      <td>010111</td>\n",
       "      <td>00101</td>\n",
       "    </tr>\n",
       "    <tr>\n",
       "      <th>4</th>\n",
       "      <td>10</td>\n",
       "      <td>1</td>\n",
       "      <td>0011100</td>\n",
       "      <td>1001</td>\n",
       "      <td>1010</td>\n",
       "      <td>1001</td>\n",
       "      <td>011011</td>\n",
       "      <td>100100</td>\n",
       "      <td>00110</td>\n",
       "    </tr>\n",
       "  </tbody>\n",
       "</table>\n",
       "</div>"
      ],
      "text/plain": [
       "  Brightness Orientation  Stripes AntiStripes CornerAngle DilationAngle  \\\n",
       "0         10           1  1100001        0100        1000          1000   \n",
       "1         10           1  0100011        1001        0111          1001   \n",
       "2         10           0  0011101        0100        0110          0111   \n",
       "3         10           1  0000000        1000        0101          0111   \n",
       "4         10           1  0011100        1001        1010          1001   \n",
       "\n",
       "   Length   Width Height  \n",
       "0  100001  101001  01000  \n",
       "1  011010  100100  01000  \n",
       "2  011110  100001  01001  \n",
       "3  010010  010111  00101  \n",
       "4  011011  100100  00110  "
      ]
     },
     "execution_count": 49,
     "metadata": {},
     "output_type": "execute_result"
    }
   ],
   "source": [
    "data.head()"
   ]
  },
  {
   "cell_type": "markdown",
   "metadata": {},
   "source": [
    "<div style=\"text-align: justify\">Finally, the data is ready to be written.</div>"
   ]
  },
  {
   "cell_type": "code",
   "execution_count": 50,
   "metadata": {},
   "outputs": [],
   "source": [
    "with open('data.bin', mode='wb') as file:\n",
    "    buffer: str = ''\n",
    "    frame_size: int = 7\n",
    "\n",
    "    def flush_buffer() -> None:\n",
    "        global buffer\n",
    "        global frame_size\n",
    "        while (len(buffer) // frame_size) >= 1:\n",
    "            file.write(bytes([int(buffer[:frame_size], base=2)]))\n",
    "            buffer = buffer[frame_size:]\n",
    "\n",
    "    for row_index in range(len(data)):\n",
    "        for column_index in range(len(data.columns)):\n",
    "            buffer += data.iloc[row_index, column_index]        # append next bits\n",
    "        flush_buffer()\n",
    "\n",
    "    buffer = buffer.ljust(frame_size,'0')       # complement the last frame\n",
    "    flush_buffer()\n"
   ]
  }
 ],
 "metadata": {
  "kernelspec": {
   "display_name": "Python 3.11.0 ('venv': venv)",
   "language": "python",
   "name": "python3"
  },
  "language_info": {
   "codemirror_mode": {
    "name": "ipython",
    "version": 3
   },
   "file_extension": ".py",
   "mimetype": "text/x-python",
   "name": "python",
   "nbconvert_exporter": "python",
   "pygments_lexer": "ipython3",
   "version": "3.11.0"
  },
  "orig_nbformat": 4,
  "vscode": {
   "interpreter": {
    "hash": "8b98e89182393848b269764751de12a768602775d422d11e2018ee05ba3748f8"
   }
  }
 },
 "nbformat": 4,
 "nbformat_minor": 2
}
